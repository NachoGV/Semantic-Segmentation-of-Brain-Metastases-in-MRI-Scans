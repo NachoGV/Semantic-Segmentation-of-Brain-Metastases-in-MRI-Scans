{
 "cells": [
  {
   "cell_type": "markdown",
   "metadata": {},
   "source": [
    "# Ensemble Techniques"
   ]
  },
  {
   "cell_type": "markdown",
   "metadata": {},
   "source": [
    "## Environment Setup"
   ]
  },
  {
   "cell_type": "markdown",
   "metadata": {},
   "source": [
    "### Imports"
   ]
  },
  {
   "cell_type": "code",
   "execution_count": 1,
   "metadata": {},
   "outputs": [],
   "source": [
    "import os\n",
    "os.sys.path.append(\"../utils\")\n",
    "\n",
    "import torch\n",
    "import numpy as np\n",
    "import pandas as pd\n",
    "from tqdm import tqdm\n",
    "from Transforms import Transforms\n",
    "from Inference import inference\n",
    "from monai.losses import DiceLoss\n",
    "from Datasets import EnsembleDataset\n",
    "from monai.metrics import DiceMetric\n",
    "from Models import LogisticRegression\n",
    "from monai.transforms import AsDiscrete\n",
    "from torch.utils.data import DataLoader\n",
    "from torch.utils.data import SequentialSampler   "
   ]
  },
  {
   "cell_type": "markdown",
   "metadata": {},
   "source": [
    "### Config"
   ]
  },
  {
   "cell_type": "code",
   "execution_count": 2,
   "metadata": {},
   "outputs": [],
   "source": [
    "seed = 33\n",
    "pd.set_option(\"display.max_columns\", None)\n",
    "pd.set_option('display.max_colwidth', None)"
   ]
  },
  {
   "cell_type": "markdown",
   "metadata": {},
   "source": [
    "## Load Train Data"
   ]
  },
  {
   "cell_type": "code",
   "execution_count": 3,
   "metadata": {},
   "outputs": [
    {
     "data": {
      "text/html": [
       "<div>\n",
       "<style scoped>\n",
       "    .dataframe tbody tr th:only-of-type {\n",
       "        vertical-align: middle;\n",
       "    }\n",
       "\n",
       "    .dataframe tbody tr th {\n",
       "        vertical-align: top;\n",
       "    }\n",
       "\n",
       "    .dataframe thead th {\n",
       "        text-align: right;\n",
       "    }\n",
       "</style>\n",
       "<table border=\"1\" class=\"dataframe\">\n",
       "  <thead>\n",
       "    <tr style=\"text-align: right;\">\n",
       "      <th></th>\n",
       "      <th>SubjectID</th>\n",
       "      <th>AHNet</th>\n",
       "      <th>UNet</th>\n",
       "      <th>SegResNet</th>\n",
       "      <th>UNETR</th>\n",
       "      <th>GT</th>\n",
       "    </tr>\n",
       "  </thead>\n",
       "  <tbody>\n",
       "    <tr>\n",
       "      <th>0</th>\n",
       "      <td>100381A</td>\n",
       "      <td>[../outputs/AHNet/pred_segs/train_pred_segs/pred_100381A_TC.npz, ../outputs/AHNet/pred_segs/train_pred_segs/pred_100381A_WT.npz, ../outputs/AHNet/pred_segs/train_pred_segs/pred_100381A_ET.npz]</td>\n",
       "      <td>[../outputs/UNet/pred_segs/train_pred_segs/pred_100381A_TC.npz, ../outputs/UNet/pred_segs/train_pred_segs/pred_100381A_WT.npz, ../outputs/UNet/pred_segs/train_pred_segs/pred_100381A_ET.npz]</td>\n",
       "      <td>[../outputs/SegResNet/pred_segs/train_pred_segs/pred_100381A_TC.npz, ../outputs/SegResNet/pred_segs/train_pred_segs/pred_100381A_WT.npz, ../outputs/SegResNet/pred_segs/train_pred_segs/pred_100381A_ET.npz]</td>\n",
       "      <td>[../outputs/UNETR/pred_segs/train_pred_segs/pred_100381A_TC.npz, ../outputs/UNETR/pred_segs/train_pred_segs/pred_100381A_WT.npz, ../outputs/UNETR/pred_segs/train_pred_segs/pred_100381A_ET.npz]</td>\n",
       "      <td>[../outputs/gt_segs/train_gt_segs/gt_100381A_TC.npz, ../outputs/gt_segs/train_gt_segs/gt_100381A_WT.npz, ../outputs/gt_segs/train_gt_segs/gt_100381A_ET.npz]</td>\n",
       "    </tr>\n",
       "    <tr>\n",
       "      <th>1</th>\n",
       "      <td>100414B</td>\n",
       "      <td>[../outputs/AHNet/pred_segs/train_pred_segs/pred_100414B_TC.npz, ../outputs/AHNet/pred_segs/train_pred_segs/pred_100414B_WT.npz, ../outputs/AHNet/pred_segs/train_pred_segs/pred_100414B_ET.npz]</td>\n",
       "      <td>[../outputs/UNet/pred_segs/train_pred_segs/pred_100414B_TC.npz, ../outputs/UNet/pred_segs/train_pred_segs/pred_100414B_WT.npz, ../outputs/UNet/pred_segs/train_pred_segs/pred_100414B_ET.npz]</td>\n",
       "      <td>[../outputs/SegResNet/pred_segs/train_pred_segs/pred_100414B_TC.npz, ../outputs/SegResNet/pred_segs/train_pred_segs/pred_100414B_WT.npz, ../outputs/SegResNet/pred_segs/train_pred_segs/pred_100414B_ET.npz]</td>\n",
       "      <td>[../outputs/UNETR/pred_segs/train_pred_segs/pred_100414B_TC.npz, ../outputs/UNETR/pred_segs/train_pred_segs/pred_100414B_WT.npz, ../outputs/UNETR/pred_segs/train_pred_segs/pred_100414B_ET.npz]</td>\n",
       "      <td>[../outputs/gt_segs/train_gt_segs/gt_100414B_TC.npz, ../outputs/gt_segs/train_gt_segs/gt_100414B_WT.npz, ../outputs/gt_segs/train_gt_segs/gt_100414B_ET.npz]</td>\n",
       "    </tr>\n",
       "    <tr>\n",
       "      <th>2</th>\n",
       "      <td>100132B</td>\n",
       "      <td>[../outputs/AHNet/pred_segs/train_pred_segs/pred_100132B_TC.npz, ../outputs/AHNet/pred_segs/train_pred_segs/pred_100132B_WT.npz, ../outputs/AHNet/pred_segs/train_pred_segs/pred_100132B_ET.npz]</td>\n",
       "      <td>[../outputs/UNet/pred_segs/train_pred_segs/pred_100132B_TC.npz, ../outputs/UNet/pred_segs/train_pred_segs/pred_100132B_WT.npz, ../outputs/UNet/pred_segs/train_pred_segs/pred_100132B_ET.npz]</td>\n",
       "      <td>[../outputs/SegResNet/pred_segs/train_pred_segs/pred_100132B_TC.npz, ../outputs/SegResNet/pred_segs/train_pred_segs/pred_100132B_WT.npz, ../outputs/SegResNet/pred_segs/train_pred_segs/pred_100132B_ET.npz]</td>\n",
       "      <td>[../outputs/UNETR/pred_segs/train_pred_segs/pred_100132B_TC.npz, ../outputs/UNETR/pred_segs/train_pred_segs/pred_100132B_WT.npz, ../outputs/UNETR/pred_segs/train_pred_segs/pred_100132B_ET.npz]</td>\n",
       "      <td>[../outputs/gt_segs/train_gt_segs/gt_100132B_TC.npz, ../outputs/gt_segs/train_gt_segs/gt_100132B_WT.npz, ../outputs/gt_segs/train_gt_segs/gt_100132B_ET.npz]</td>\n",
       "    </tr>\n",
       "    <tr>\n",
       "      <th>3</th>\n",
       "      <td>100212A</td>\n",
       "      <td>[../outputs/AHNet/pred_segs/train_pred_segs/pred_100212A_TC.npz, ../outputs/AHNet/pred_segs/train_pred_segs/pred_100212A_WT.npz, ../outputs/AHNet/pred_segs/train_pred_segs/pred_100212A_ET.npz]</td>\n",
       "      <td>[../outputs/UNet/pred_segs/train_pred_segs/pred_100212A_TC.npz, ../outputs/UNet/pred_segs/train_pred_segs/pred_100212A_WT.npz, ../outputs/UNet/pred_segs/train_pred_segs/pred_100212A_ET.npz]</td>\n",
       "      <td>[../outputs/SegResNet/pred_segs/train_pred_segs/pred_100212A_TC.npz, ../outputs/SegResNet/pred_segs/train_pred_segs/pred_100212A_WT.npz, ../outputs/SegResNet/pred_segs/train_pred_segs/pred_100212A_ET.npz]</td>\n",
       "      <td>[../outputs/UNETR/pred_segs/train_pred_segs/pred_100212A_TC.npz, ../outputs/UNETR/pred_segs/train_pred_segs/pred_100212A_WT.npz, ../outputs/UNETR/pred_segs/train_pred_segs/pred_100212A_ET.npz]</td>\n",
       "      <td>[../outputs/gt_segs/train_gt_segs/gt_100212A_TC.npz, ../outputs/gt_segs/train_gt_segs/gt_100212A_WT.npz, ../outputs/gt_segs/train_gt_segs/gt_100212A_ET.npz]</td>\n",
       "    </tr>\n",
       "    <tr>\n",
       "      <th>4</th>\n",
       "      <td>100243B</td>\n",
       "      <td>[../outputs/AHNet/pred_segs/train_pred_segs/pred_100243B_TC.npz, ../outputs/AHNet/pred_segs/train_pred_segs/pred_100243B_WT.npz, ../outputs/AHNet/pred_segs/train_pred_segs/pred_100243B_ET.npz]</td>\n",
       "      <td>[../outputs/UNet/pred_segs/train_pred_segs/pred_100243B_TC.npz, ../outputs/UNet/pred_segs/train_pred_segs/pred_100243B_WT.npz, ../outputs/UNet/pred_segs/train_pred_segs/pred_100243B_ET.npz]</td>\n",
       "      <td>[../outputs/SegResNet/pred_segs/train_pred_segs/pred_100243B_TC.npz, ../outputs/SegResNet/pred_segs/train_pred_segs/pred_100243B_WT.npz, ../outputs/SegResNet/pred_segs/train_pred_segs/pred_100243B_ET.npz]</td>\n",
       "      <td>[../outputs/UNETR/pred_segs/train_pred_segs/pred_100243B_TC.npz, ../outputs/UNETR/pred_segs/train_pred_segs/pred_100243B_WT.npz, ../outputs/UNETR/pred_segs/train_pred_segs/pred_100243B_ET.npz]</td>\n",
       "      <td>[../outputs/gt_segs/train_gt_segs/gt_100243B_TC.npz, ../outputs/gt_segs/train_gt_segs/gt_100243B_WT.npz, ../outputs/gt_segs/train_gt_segs/gt_100243B_ET.npz]</td>\n",
       "    </tr>\n",
       "  </tbody>\n",
       "</table>\n",
       "</div>"
      ],
      "text/plain": [
       "  SubjectID  \\\n",
       "0   100381A   \n",
       "1   100414B   \n",
       "2   100132B   \n",
       "3   100212A   \n",
       "4   100243B   \n",
       "\n",
       "                                                                                                                                                                                              AHNet  \\\n",
       "0  [../outputs/AHNet/pred_segs/train_pred_segs/pred_100381A_TC.npz, ../outputs/AHNet/pred_segs/train_pred_segs/pred_100381A_WT.npz, ../outputs/AHNet/pred_segs/train_pred_segs/pred_100381A_ET.npz]   \n",
       "1  [../outputs/AHNet/pred_segs/train_pred_segs/pred_100414B_TC.npz, ../outputs/AHNet/pred_segs/train_pred_segs/pred_100414B_WT.npz, ../outputs/AHNet/pred_segs/train_pred_segs/pred_100414B_ET.npz]   \n",
       "2  [../outputs/AHNet/pred_segs/train_pred_segs/pred_100132B_TC.npz, ../outputs/AHNet/pred_segs/train_pred_segs/pred_100132B_WT.npz, ../outputs/AHNet/pred_segs/train_pred_segs/pred_100132B_ET.npz]   \n",
       "3  [../outputs/AHNet/pred_segs/train_pred_segs/pred_100212A_TC.npz, ../outputs/AHNet/pred_segs/train_pred_segs/pred_100212A_WT.npz, ../outputs/AHNet/pred_segs/train_pred_segs/pred_100212A_ET.npz]   \n",
       "4  [../outputs/AHNet/pred_segs/train_pred_segs/pred_100243B_TC.npz, ../outputs/AHNet/pred_segs/train_pred_segs/pred_100243B_WT.npz, ../outputs/AHNet/pred_segs/train_pred_segs/pred_100243B_ET.npz]   \n",
       "\n",
       "                                                                                                                                                                                            UNet  \\\n",
       "0  [../outputs/UNet/pred_segs/train_pred_segs/pred_100381A_TC.npz, ../outputs/UNet/pred_segs/train_pred_segs/pred_100381A_WT.npz, ../outputs/UNet/pred_segs/train_pred_segs/pred_100381A_ET.npz]   \n",
       "1  [../outputs/UNet/pred_segs/train_pred_segs/pred_100414B_TC.npz, ../outputs/UNet/pred_segs/train_pred_segs/pred_100414B_WT.npz, ../outputs/UNet/pred_segs/train_pred_segs/pred_100414B_ET.npz]   \n",
       "2  [../outputs/UNet/pred_segs/train_pred_segs/pred_100132B_TC.npz, ../outputs/UNet/pred_segs/train_pred_segs/pred_100132B_WT.npz, ../outputs/UNet/pred_segs/train_pred_segs/pred_100132B_ET.npz]   \n",
       "3  [../outputs/UNet/pred_segs/train_pred_segs/pred_100212A_TC.npz, ../outputs/UNet/pred_segs/train_pred_segs/pred_100212A_WT.npz, ../outputs/UNet/pred_segs/train_pred_segs/pred_100212A_ET.npz]   \n",
       "4  [../outputs/UNet/pred_segs/train_pred_segs/pred_100243B_TC.npz, ../outputs/UNet/pred_segs/train_pred_segs/pred_100243B_WT.npz, ../outputs/UNet/pred_segs/train_pred_segs/pred_100243B_ET.npz]   \n",
       "\n",
       "                                                                                                                                                                                                      SegResNet  \\\n",
       "0  [../outputs/SegResNet/pred_segs/train_pred_segs/pred_100381A_TC.npz, ../outputs/SegResNet/pred_segs/train_pred_segs/pred_100381A_WT.npz, ../outputs/SegResNet/pred_segs/train_pred_segs/pred_100381A_ET.npz]   \n",
       "1  [../outputs/SegResNet/pred_segs/train_pred_segs/pred_100414B_TC.npz, ../outputs/SegResNet/pred_segs/train_pred_segs/pred_100414B_WT.npz, ../outputs/SegResNet/pred_segs/train_pred_segs/pred_100414B_ET.npz]   \n",
       "2  [../outputs/SegResNet/pred_segs/train_pred_segs/pred_100132B_TC.npz, ../outputs/SegResNet/pred_segs/train_pred_segs/pred_100132B_WT.npz, ../outputs/SegResNet/pred_segs/train_pred_segs/pred_100132B_ET.npz]   \n",
       "3  [../outputs/SegResNet/pred_segs/train_pred_segs/pred_100212A_TC.npz, ../outputs/SegResNet/pred_segs/train_pred_segs/pred_100212A_WT.npz, ../outputs/SegResNet/pred_segs/train_pred_segs/pred_100212A_ET.npz]   \n",
       "4  [../outputs/SegResNet/pred_segs/train_pred_segs/pred_100243B_TC.npz, ../outputs/SegResNet/pred_segs/train_pred_segs/pred_100243B_WT.npz, ../outputs/SegResNet/pred_segs/train_pred_segs/pred_100243B_ET.npz]   \n",
       "\n",
       "                                                                                                                                                                                              UNETR  \\\n",
       "0  [../outputs/UNETR/pred_segs/train_pred_segs/pred_100381A_TC.npz, ../outputs/UNETR/pred_segs/train_pred_segs/pred_100381A_WT.npz, ../outputs/UNETR/pred_segs/train_pred_segs/pred_100381A_ET.npz]   \n",
       "1  [../outputs/UNETR/pred_segs/train_pred_segs/pred_100414B_TC.npz, ../outputs/UNETR/pred_segs/train_pred_segs/pred_100414B_WT.npz, ../outputs/UNETR/pred_segs/train_pred_segs/pred_100414B_ET.npz]   \n",
       "2  [../outputs/UNETR/pred_segs/train_pred_segs/pred_100132B_TC.npz, ../outputs/UNETR/pred_segs/train_pred_segs/pred_100132B_WT.npz, ../outputs/UNETR/pred_segs/train_pred_segs/pred_100132B_ET.npz]   \n",
       "3  [../outputs/UNETR/pred_segs/train_pred_segs/pred_100212A_TC.npz, ../outputs/UNETR/pred_segs/train_pred_segs/pred_100212A_WT.npz, ../outputs/UNETR/pred_segs/train_pred_segs/pred_100212A_ET.npz]   \n",
       "4  [../outputs/UNETR/pred_segs/train_pred_segs/pred_100243B_TC.npz, ../outputs/UNETR/pred_segs/train_pred_segs/pred_100243B_WT.npz, ../outputs/UNETR/pred_segs/train_pred_segs/pred_100243B_ET.npz]   \n",
       "\n",
       "                                                                                                                                                             GT  \n",
       "0  [../outputs/gt_segs/train_gt_segs/gt_100381A_TC.npz, ../outputs/gt_segs/train_gt_segs/gt_100381A_WT.npz, ../outputs/gt_segs/train_gt_segs/gt_100381A_ET.npz]  \n",
       "1  [../outputs/gt_segs/train_gt_segs/gt_100414B_TC.npz, ../outputs/gt_segs/train_gt_segs/gt_100414B_WT.npz, ../outputs/gt_segs/train_gt_segs/gt_100414B_ET.npz]  \n",
       "2  [../outputs/gt_segs/train_gt_segs/gt_100132B_TC.npz, ../outputs/gt_segs/train_gt_segs/gt_100132B_WT.npz, ../outputs/gt_segs/train_gt_segs/gt_100132B_ET.npz]  \n",
       "3  [../outputs/gt_segs/train_gt_segs/gt_100212A_TC.npz, ../outputs/gt_segs/train_gt_segs/gt_100212A_WT.npz, ../outputs/gt_segs/train_gt_segs/gt_100212A_ET.npz]  \n",
       "4  [../outputs/gt_segs/train_gt_segs/gt_100243B_TC.npz, ../outputs/gt_segs/train_gt_segs/gt_100243B_WT.npz, ../outputs/gt_segs/train_gt_segs/gt_100243B_ET.npz]  "
      ]
     },
     "execution_count": 3,
     "metadata": {},
     "output_type": "execute_result"
    }
   ],
   "source": [
    "subject_ids = pd.read_csv('../data/TRAIN.csv')['SubjectID'].values\n",
    "\n",
    "ah_segs, segresnet_segs, unet_segs, untr_segs, gt_segs = [], [], [], [], []\n",
    "for sid in subject_ids:\n",
    "    ah_channels, unet_channels, segresnet_channels, untr_channels, gt_channels = [], [], [], [], []\n",
    "    for channel in ['TC', 'WT', 'ET']:\n",
    "        ah_channels.append(f'../outputs/AHNet/pred_segs/train_pred_segs/pred_{sid}_{channel}.npz')\n",
    "        segresnet_channels.append(f'../outputs/SegResNet/pred_segs/train_pred_segs/pred_{sid}_{channel}.npz')\n",
    "        unet_channels.append(f'../outputs/UNet/pred_segs/train_pred_segs/pred_{sid}_{channel}.npz')\n",
    "        untr_channels.append(f'../outputs/UNETR/pred_segs/train_pred_segs/pred_{sid}_{channel}.npz')\n",
    "        gt_channels.append(f'../outputs/gt_segs/train_gt_segs/gt_{sid}_{channel}.npz')\n",
    "    \n",
    "    ah_segs.append(ah_channels)\n",
    "    segresnet_segs.append(segresnet_channels)\n",
    "    unet_segs.append(unet_channels)\n",
    "    untr_segs.append(untr_channels)\n",
    "    gt_segs.append(gt_channels)\n",
    "\n",
    "# Dataframe\n",
    "train_df = pd.DataFrame()\n",
    "train_df['SubjectID'] = subject_ids\n",
    "train_df['AHNet'] = ah_segs\n",
    "train_df['UNet'] = unet_segs\n",
    "train_df['SegResNet'] = segresnet_segs\n",
    "train_df['UNETR'] = untr_segs\n",
    "train_df['GT'] = gt_segs\n",
    "\n",
    "train_df.head()"
   ]
  },
  {
   "cell_type": "markdown",
   "metadata": {},
   "source": [
    "## Load Val Data"
   ]
  },
  {
   "cell_type": "code",
   "execution_count": 4,
   "metadata": {},
   "outputs": [
    {
     "data": {
      "text/html": [
       "<div>\n",
       "<style scoped>\n",
       "    .dataframe tbody tr th:only-of-type {\n",
       "        vertical-align: middle;\n",
       "    }\n",
       "\n",
       "    .dataframe tbody tr th {\n",
       "        vertical-align: top;\n",
       "    }\n",
       "\n",
       "    .dataframe thead th {\n",
       "        text-align: right;\n",
       "    }\n",
       "</style>\n",
       "<table border=\"1\" class=\"dataframe\">\n",
       "  <thead>\n",
       "    <tr style=\"text-align: right;\">\n",
       "      <th></th>\n",
       "      <th>SubjectID</th>\n",
       "      <th>AHNet</th>\n",
       "      <th>UNet</th>\n",
       "      <th>SegResNet</th>\n",
       "      <th>UNETR</th>\n",
       "      <th>GT</th>\n",
       "    </tr>\n",
       "  </thead>\n",
       "  <tbody>\n",
       "    <tr>\n",
       "      <th>0</th>\n",
       "      <td>100237A</td>\n",
       "      <td>[../outputs/AHNet/pred_segs/val_pred_segs/pred_100237A_TC.npz, ../outputs/AHNet/pred_segs/val_pred_segs/pred_100237A_WT.npz, ../outputs/AHNet/pred_segs/val_pred_segs/pred_100237A_ET.npz]</td>\n",
       "      <td>[../outputs/UNet/pred_segs/val_pred_segs/pred_100237A_TC.npz, ../outputs/UNet/pred_segs/val_pred_segs/pred_100237A_WT.npz, ../outputs/UNet/pred_segs/val_pred_segs/pred_100237A_ET.npz]</td>\n",
       "      <td>[../outputs/SegResNet/pred_segs/val_pred_segs/pred_100237A_TC.npz, ../outputs/SegResNet/pred_segs/val_pred_segs/pred_100237A_WT.npz, ../outputs/SegResNet/pred_segs/val_pred_segs/pred_100237A_ET.npz]</td>\n",
       "      <td>[../outputs/UNETR/pred_segs/val_pred_segs/pred_100237A_TC.npz, ../outputs/UNETR/pred_segs/val_pred_segs/pred_100237A_WT.npz, ../outputs/UNETR/pred_segs/val_pred_segs/pred_100237A_ET.npz]</td>\n",
       "      <td>[../outputs/gt_segs/val_gt_segs/gt_100237A_TC.npz, ../outputs/gt_segs/val_gt_segs/gt_100237A_WT.npz, ../outputs/gt_segs/val_gt_segs/gt_100237A_ET.npz]</td>\n",
       "    </tr>\n",
       "    <tr>\n",
       "      <th>1</th>\n",
       "      <td>100219A</td>\n",
       "      <td>[../outputs/AHNet/pred_segs/val_pred_segs/pred_100219A_TC.npz, ../outputs/AHNet/pred_segs/val_pred_segs/pred_100219A_WT.npz, ../outputs/AHNet/pred_segs/val_pred_segs/pred_100219A_ET.npz]</td>\n",
       "      <td>[../outputs/UNet/pred_segs/val_pred_segs/pred_100219A_TC.npz, ../outputs/UNet/pred_segs/val_pred_segs/pred_100219A_WT.npz, ../outputs/UNet/pred_segs/val_pred_segs/pred_100219A_ET.npz]</td>\n",
       "      <td>[../outputs/SegResNet/pred_segs/val_pred_segs/pred_100219A_TC.npz, ../outputs/SegResNet/pred_segs/val_pred_segs/pred_100219A_WT.npz, ../outputs/SegResNet/pred_segs/val_pred_segs/pred_100219A_ET.npz]</td>\n",
       "      <td>[../outputs/UNETR/pred_segs/val_pred_segs/pred_100219A_TC.npz, ../outputs/UNETR/pred_segs/val_pred_segs/pred_100219A_WT.npz, ../outputs/UNETR/pred_segs/val_pred_segs/pred_100219A_ET.npz]</td>\n",
       "      <td>[../outputs/gt_segs/val_gt_segs/gt_100219A_TC.npz, ../outputs/gt_segs/val_gt_segs/gt_100219A_WT.npz, ../outputs/gt_segs/val_gt_segs/gt_100219A_ET.npz]</td>\n",
       "    </tr>\n",
       "    <tr>\n",
       "      <th>2</th>\n",
       "      <td>100363A</td>\n",
       "      <td>[../outputs/AHNet/pred_segs/val_pred_segs/pred_100363A_TC.npz, ../outputs/AHNet/pred_segs/val_pred_segs/pred_100363A_WT.npz, ../outputs/AHNet/pred_segs/val_pred_segs/pred_100363A_ET.npz]</td>\n",
       "      <td>[../outputs/UNet/pred_segs/val_pred_segs/pred_100363A_TC.npz, ../outputs/UNet/pred_segs/val_pred_segs/pred_100363A_WT.npz, ../outputs/UNet/pred_segs/val_pred_segs/pred_100363A_ET.npz]</td>\n",
       "      <td>[../outputs/SegResNet/pred_segs/val_pred_segs/pred_100363A_TC.npz, ../outputs/SegResNet/pred_segs/val_pred_segs/pred_100363A_WT.npz, ../outputs/SegResNet/pred_segs/val_pred_segs/pred_100363A_ET.npz]</td>\n",
       "      <td>[../outputs/UNETR/pred_segs/val_pred_segs/pred_100363A_TC.npz, ../outputs/UNETR/pred_segs/val_pred_segs/pred_100363A_WT.npz, ../outputs/UNETR/pred_segs/val_pred_segs/pred_100363A_ET.npz]</td>\n",
       "      <td>[../outputs/gt_segs/val_gt_segs/gt_100363A_TC.npz, ../outputs/gt_segs/val_gt_segs/gt_100363A_WT.npz, ../outputs/gt_segs/val_gt_segs/gt_100363A_ET.npz]</td>\n",
       "    </tr>\n",
       "    <tr>\n",
       "      <th>3</th>\n",
       "      <td>100354A</td>\n",
       "      <td>[../outputs/AHNet/pred_segs/val_pred_segs/pred_100354A_TC.npz, ../outputs/AHNet/pred_segs/val_pred_segs/pred_100354A_WT.npz, ../outputs/AHNet/pred_segs/val_pred_segs/pred_100354A_ET.npz]</td>\n",
       "      <td>[../outputs/UNet/pred_segs/val_pred_segs/pred_100354A_TC.npz, ../outputs/UNet/pred_segs/val_pred_segs/pred_100354A_WT.npz, ../outputs/UNet/pred_segs/val_pred_segs/pred_100354A_ET.npz]</td>\n",
       "      <td>[../outputs/SegResNet/pred_segs/val_pred_segs/pred_100354A_TC.npz, ../outputs/SegResNet/pred_segs/val_pred_segs/pred_100354A_WT.npz, ../outputs/SegResNet/pred_segs/val_pred_segs/pred_100354A_ET.npz]</td>\n",
       "      <td>[../outputs/UNETR/pred_segs/val_pred_segs/pred_100354A_TC.npz, ../outputs/UNETR/pred_segs/val_pred_segs/pred_100354A_WT.npz, ../outputs/UNETR/pred_segs/val_pred_segs/pred_100354A_ET.npz]</td>\n",
       "      <td>[../outputs/gt_segs/val_gt_segs/gt_100354A_TC.npz, ../outputs/gt_segs/val_gt_segs/gt_100354A_WT.npz, ../outputs/gt_segs/val_gt_segs/gt_100354A_ET.npz]</td>\n",
       "    </tr>\n",
       "    <tr>\n",
       "      <th>4</th>\n",
       "      <td>100303A</td>\n",
       "      <td>[../outputs/AHNet/pred_segs/val_pred_segs/pred_100303A_TC.npz, ../outputs/AHNet/pred_segs/val_pred_segs/pred_100303A_WT.npz, ../outputs/AHNet/pred_segs/val_pred_segs/pred_100303A_ET.npz]</td>\n",
       "      <td>[../outputs/UNet/pred_segs/val_pred_segs/pred_100303A_TC.npz, ../outputs/UNet/pred_segs/val_pred_segs/pred_100303A_WT.npz, ../outputs/UNet/pred_segs/val_pred_segs/pred_100303A_ET.npz]</td>\n",
       "      <td>[../outputs/SegResNet/pred_segs/val_pred_segs/pred_100303A_TC.npz, ../outputs/SegResNet/pred_segs/val_pred_segs/pred_100303A_WT.npz, ../outputs/SegResNet/pred_segs/val_pred_segs/pred_100303A_ET.npz]</td>\n",
       "      <td>[../outputs/UNETR/pred_segs/val_pred_segs/pred_100303A_TC.npz, ../outputs/UNETR/pred_segs/val_pred_segs/pred_100303A_WT.npz, ../outputs/UNETR/pred_segs/val_pred_segs/pred_100303A_ET.npz]</td>\n",
       "      <td>[../outputs/gt_segs/val_gt_segs/gt_100303A_TC.npz, ../outputs/gt_segs/val_gt_segs/gt_100303A_WT.npz, ../outputs/gt_segs/val_gt_segs/gt_100303A_ET.npz]</td>\n",
       "    </tr>\n",
       "  </tbody>\n",
       "</table>\n",
       "</div>"
      ],
      "text/plain": [
       "  SubjectID  \\\n",
       "0   100237A   \n",
       "1   100219A   \n",
       "2   100363A   \n",
       "3   100354A   \n",
       "4   100303A   \n",
       "\n",
       "                                                                                                                                                                                        AHNet  \\\n",
       "0  [../outputs/AHNet/pred_segs/val_pred_segs/pred_100237A_TC.npz, ../outputs/AHNet/pred_segs/val_pred_segs/pred_100237A_WT.npz, ../outputs/AHNet/pred_segs/val_pred_segs/pred_100237A_ET.npz]   \n",
       "1  [../outputs/AHNet/pred_segs/val_pred_segs/pred_100219A_TC.npz, ../outputs/AHNet/pred_segs/val_pred_segs/pred_100219A_WT.npz, ../outputs/AHNet/pred_segs/val_pred_segs/pred_100219A_ET.npz]   \n",
       "2  [../outputs/AHNet/pred_segs/val_pred_segs/pred_100363A_TC.npz, ../outputs/AHNet/pred_segs/val_pred_segs/pred_100363A_WT.npz, ../outputs/AHNet/pred_segs/val_pred_segs/pred_100363A_ET.npz]   \n",
       "3  [../outputs/AHNet/pred_segs/val_pred_segs/pred_100354A_TC.npz, ../outputs/AHNet/pred_segs/val_pred_segs/pred_100354A_WT.npz, ../outputs/AHNet/pred_segs/val_pred_segs/pred_100354A_ET.npz]   \n",
       "4  [../outputs/AHNet/pred_segs/val_pred_segs/pred_100303A_TC.npz, ../outputs/AHNet/pred_segs/val_pred_segs/pred_100303A_WT.npz, ../outputs/AHNet/pred_segs/val_pred_segs/pred_100303A_ET.npz]   \n",
       "\n",
       "                                                                                                                                                                                      UNet  \\\n",
       "0  [../outputs/UNet/pred_segs/val_pred_segs/pred_100237A_TC.npz, ../outputs/UNet/pred_segs/val_pred_segs/pred_100237A_WT.npz, ../outputs/UNet/pred_segs/val_pred_segs/pred_100237A_ET.npz]   \n",
       "1  [../outputs/UNet/pred_segs/val_pred_segs/pred_100219A_TC.npz, ../outputs/UNet/pred_segs/val_pred_segs/pred_100219A_WT.npz, ../outputs/UNet/pred_segs/val_pred_segs/pred_100219A_ET.npz]   \n",
       "2  [../outputs/UNet/pred_segs/val_pred_segs/pred_100363A_TC.npz, ../outputs/UNet/pred_segs/val_pred_segs/pred_100363A_WT.npz, ../outputs/UNet/pred_segs/val_pred_segs/pred_100363A_ET.npz]   \n",
       "3  [../outputs/UNet/pred_segs/val_pred_segs/pred_100354A_TC.npz, ../outputs/UNet/pred_segs/val_pred_segs/pred_100354A_WT.npz, ../outputs/UNet/pred_segs/val_pred_segs/pred_100354A_ET.npz]   \n",
       "4  [../outputs/UNet/pred_segs/val_pred_segs/pred_100303A_TC.npz, ../outputs/UNet/pred_segs/val_pred_segs/pred_100303A_WT.npz, ../outputs/UNet/pred_segs/val_pred_segs/pred_100303A_ET.npz]   \n",
       "\n",
       "                                                                                                                                                                                                SegResNet  \\\n",
       "0  [../outputs/SegResNet/pred_segs/val_pred_segs/pred_100237A_TC.npz, ../outputs/SegResNet/pred_segs/val_pred_segs/pred_100237A_WT.npz, ../outputs/SegResNet/pred_segs/val_pred_segs/pred_100237A_ET.npz]   \n",
       "1  [../outputs/SegResNet/pred_segs/val_pred_segs/pred_100219A_TC.npz, ../outputs/SegResNet/pred_segs/val_pred_segs/pred_100219A_WT.npz, ../outputs/SegResNet/pred_segs/val_pred_segs/pred_100219A_ET.npz]   \n",
       "2  [../outputs/SegResNet/pred_segs/val_pred_segs/pred_100363A_TC.npz, ../outputs/SegResNet/pred_segs/val_pred_segs/pred_100363A_WT.npz, ../outputs/SegResNet/pred_segs/val_pred_segs/pred_100363A_ET.npz]   \n",
       "3  [../outputs/SegResNet/pred_segs/val_pred_segs/pred_100354A_TC.npz, ../outputs/SegResNet/pred_segs/val_pred_segs/pred_100354A_WT.npz, ../outputs/SegResNet/pred_segs/val_pred_segs/pred_100354A_ET.npz]   \n",
       "4  [../outputs/SegResNet/pred_segs/val_pred_segs/pred_100303A_TC.npz, ../outputs/SegResNet/pred_segs/val_pred_segs/pred_100303A_WT.npz, ../outputs/SegResNet/pred_segs/val_pred_segs/pred_100303A_ET.npz]   \n",
       "\n",
       "                                                                                                                                                                                        UNETR  \\\n",
       "0  [../outputs/UNETR/pred_segs/val_pred_segs/pred_100237A_TC.npz, ../outputs/UNETR/pred_segs/val_pred_segs/pred_100237A_WT.npz, ../outputs/UNETR/pred_segs/val_pred_segs/pred_100237A_ET.npz]   \n",
       "1  [../outputs/UNETR/pred_segs/val_pred_segs/pred_100219A_TC.npz, ../outputs/UNETR/pred_segs/val_pred_segs/pred_100219A_WT.npz, ../outputs/UNETR/pred_segs/val_pred_segs/pred_100219A_ET.npz]   \n",
       "2  [../outputs/UNETR/pred_segs/val_pred_segs/pred_100363A_TC.npz, ../outputs/UNETR/pred_segs/val_pred_segs/pred_100363A_WT.npz, ../outputs/UNETR/pred_segs/val_pred_segs/pred_100363A_ET.npz]   \n",
       "3  [../outputs/UNETR/pred_segs/val_pred_segs/pred_100354A_TC.npz, ../outputs/UNETR/pred_segs/val_pred_segs/pred_100354A_WT.npz, ../outputs/UNETR/pred_segs/val_pred_segs/pred_100354A_ET.npz]   \n",
       "4  [../outputs/UNETR/pred_segs/val_pred_segs/pred_100303A_TC.npz, ../outputs/UNETR/pred_segs/val_pred_segs/pred_100303A_WT.npz, ../outputs/UNETR/pred_segs/val_pred_segs/pred_100303A_ET.npz]   \n",
       "\n",
       "                                                                                                                                                       GT  \n",
       "0  [../outputs/gt_segs/val_gt_segs/gt_100237A_TC.npz, ../outputs/gt_segs/val_gt_segs/gt_100237A_WT.npz, ../outputs/gt_segs/val_gt_segs/gt_100237A_ET.npz]  \n",
       "1  [../outputs/gt_segs/val_gt_segs/gt_100219A_TC.npz, ../outputs/gt_segs/val_gt_segs/gt_100219A_WT.npz, ../outputs/gt_segs/val_gt_segs/gt_100219A_ET.npz]  \n",
       "2  [../outputs/gt_segs/val_gt_segs/gt_100363A_TC.npz, ../outputs/gt_segs/val_gt_segs/gt_100363A_WT.npz, ../outputs/gt_segs/val_gt_segs/gt_100363A_ET.npz]  \n",
       "3  [../outputs/gt_segs/val_gt_segs/gt_100354A_TC.npz, ../outputs/gt_segs/val_gt_segs/gt_100354A_WT.npz, ../outputs/gt_segs/val_gt_segs/gt_100354A_ET.npz]  \n",
       "4  [../outputs/gt_segs/val_gt_segs/gt_100303A_TC.npz, ../outputs/gt_segs/val_gt_segs/gt_100303A_WT.npz, ../outputs/gt_segs/val_gt_segs/gt_100303A_ET.npz]  "
      ]
     },
     "execution_count": 4,
     "metadata": {},
     "output_type": "execute_result"
    }
   ],
   "source": [
    "subject_ids = pd.read_csv('../data/VAL.csv')['SubjectID'].values\n",
    "\n",
    "ah_segs, unet_segs, segresnet_segs, untr_segs, gt_segs = [], [], [], [], []\n",
    "for sid in subject_ids:\n",
    "    ah_channels, unet_channels, segresnet_channels, untr_channels, gt_channels = [], [], [], [], []\n",
    "    for channel in ['TC', 'WT', 'ET']:\n",
    "        ah_channels.append(f'../outputs/AHNet/pred_segs/val_pred_segs/pred_{sid}_{channel}.npz')\n",
    "        unet_channels.append(f'../outputs/UNet/pred_segs/val_pred_segs/pred_{sid}_{channel}.npz')\n",
    "        segresnet_channels.append(f'../outputs/SegResNet/pred_segs/val_pred_segs/pred_{sid}_{channel}.npz')\n",
    "        untr_channels.append(f'../outputs/UNETR/pred_segs/val_pred_segs/pred_{sid}_{channel}.npz')\n",
    "        gt_channels.append(f'../outputs/gt_segs/val_gt_segs/gt_{sid}_{channel}.npz')\n",
    "    \n",
    "    ah_segs.append(ah_channels)\n",
    "    unet_segs.append(unet_channels)\n",
    "    segresnet_segs.append(segresnet_channels)\n",
    "    untr_segs.append(untr_channels)\n",
    "    gt_segs.append(gt_channels)\n",
    "\n",
    "# Dataframe\n",
    "val_df = pd.DataFrame()\n",
    "val_df['SubjectID'] = subject_ids\n",
    "val_df['AHNet'] = ah_segs\n",
    "val_df['UNet'] = unet_segs\n",
    "val_df['SegResNet'] = segresnet_segs\n",
    "val_df['UNETR'] = untr_segs\n",
    "val_df['GT'] = gt_segs\n",
    "\n",
    "val_df.head()"
   ]
  },
  {
   "cell_type": "markdown",
   "metadata": {},
   "source": [
    "## Datasets"
   ]
  },
  {
   "cell_type": "code",
   "execution_count": 5,
   "metadata": {},
   "outputs": [
    {
     "name": "stdout",
     "output_type": "stream",
     "text": [
      "torch.Size([9216000, 12]) torch.Size([9216000, 3]) torch.Size([3, 240, 240, 160])\n"
     ]
    }
   ],
   "source": [
    "# Transforms\n",
    "transforms = Transforms(seed=33)\n",
    "    \n",
    "# Datasets\n",
    "train_dataset = EnsembleDataset(train_df.drop(columns = ['SubjectID']), transform=transforms.train_ensemble((240,240,160)), size = None)\n",
    "val_dataset = EnsembleDataset(val_df.drop(columns = ['SubjectID']), transform=transforms.val_ensemble(), size = None)\n",
    "\n",
    "# Samplers\n",
    "train_sampler = SequentialSampler(train_dataset)\n",
    "val_sampler = SequentialSampler(val_dataset)\n",
    "\n",
    "# Dataloaders\n",
    "train_loader = DataLoader(train_dataset, batch_size = 1, shuffle = False, sampler = train_sampler)\n",
    "val_loader = DataLoader(val_dataset, batch_size = 1, shuffle = False, sampler = val_sampler)\n",
    "\n",
    "image, label, og_shape = train_dataset[0]\n",
    "print(image.shape, label.shape, og_shape)"
   ]
  },
  {
   "cell_type": "markdown",
   "metadata": {},
   "source": [
    "## Training & Validation"
   ]
  },
  {
   "cell_type": "code",
   "execution_count": 6,
   "metadata": {},
   "outputs": [],
   "source": [
    "# Params\n",
    "val_interval = 1\n",
    "threshold=0.9\n",
    "lr=0.001\n",
    "wd=0.0001\n",
    "max_epochs = 10\n",
    "    \n",
    "input_dim = 12\n",
    "output_dim = 3\n",
    "model = LogisticRegression(input_dim, output_dim)\n",
    "\n",
    "# Post Transforms, Optimizer, Loss, Evaluation Metric\n",
    "trans = AsDiscrete(threshold=threshold)\n",
    "loss_function = DiceLoss(smooth_nr=1e-5, smooth_dr=1e-5, squared_pred=True, to_onehot_y=False, sigmoid=True)\n",
    "dice_metric = DiceMetric(include_background=True, reduction=\"mean\")\n",
    "optimizer = torch.optim.Adam(model.parameters(), lr=lr, weight_decay=wd)\n",
    "lr_scheduler = torch.optim.lr_scheduler.CosineAnnealingLR(optimizer, T_max=max_epochs)"
   ]
  },
  {
   "cell_type": "code",
   "execution_count": 7,
   "metadata": {},
   "outputs": [
    {
     "name": "stdout",
     "output_type": "stream",
     "text": [
      "Epoch 1/10\n",
      "TRAIN\n"
     ]
    },
    {
     "name": "stderr",
     "output_type": "stream",
     "text": [
      "248it [13:43,  3.32s/it]\n"
     ]
    },
    {
     "name": "stdout",
     "output_type": "stream",
     "text": [
      "Loss: 0.9922427636000418\n",
      "---------------------------------------\n",
      "VAL\n"
     ]
    },
    {
     "name": "stderr",
     "output_type": "stream",
     "text": [
      "100%|██████████| 31/31 [01:39<00:00,  3.20s/it]\n"
     ]
    },
    {
     "name": "stdout",
     "output_type": "stream",
     "text": [
      "Dice Scores: 0.4762267150856074\n",
      "---------------------------------------\n",
      "Epoch 2/10\n",
      "TRAIN\n"
     ]
    },
    {
     "name": "stderr",
     "output_type": "stream",
     "text": [
      "248it [14:12,  3.44s/it]\n"
     ]
    },
    {
     "name": "stdout",
     "output_type": "stream",
     "text": [
      "Loss: 0.9910916077994532\n",
      "---------------------------------------\n",
      "VAL\n"
     ]
    },
    {
     "name": "stderr",
     "output_type": "stream",
     "text": [
      "100%|██████████| 31/31 [01:50<00:00,  3.57s/it]\n"
     ]
    },
    {
     "name": "stdout",
     "output_type": "stream",
     "text": [
      "Dice Scores: 0.5583472551717874\n",
      "---------------------------------------\n",
      "Epoch 3/10\n",
      "TRAIN\n"
     ]
    },
    {
     "name": "stderr",
     "output_type": "stream",
     "text": [
      "248it [13:48,  3.34s/it]\n"
     ]
    },
    {
     "name": "stdout",
     "output_type": "stream",
     "text": [
      "Loss: 0.9904430080806056\n",
      "---------------------------------------\n",
      "VAL\n"
     ]
    },
    {
     "name": "stderr",
     "output_type": "stream",
     "text": [
      "100%|██████████| 31/31 [01:50<00:00,  3.57s/it]\n"
     ]
    },
    {
     "name": "stdout",
     "output_type": "stream",
     "text": [
      "Dice Scores: 0.555258952922398\n",
      "---------------------------------------\n",
      "Epoch 4/10\n",
      "TRAIN\n"
     ]
    },
    {
     "name": "stderr",
     "output_type": "stream",
     "text": [
      "248it [14:26,  3.49s/it]\n"
     ]
    },
    {
     "name": "stdout",
     "output_type": "stream",
     "text": [
      "Loss: 0.9899060622819008\n",
      "---------------------------------------\n",
      "VAL\n"
     ]
    },
    {
     "name": "stderr",
     "output_type": "stream",
     "text": [
      "100%|██████████| 31/31 [01:50<00:00,  3.56s/it]\n"
     ]
    },
    {
     "name": "stdout",
     "output_type": "stream",
     "text": [
      "Dice Scores: 0.5467652793252661\n",
      "---------------------------------------\n",
      "Epoch 5/10\n",
      "TRAIN\n"
     ]
    },
    {
     "name": "stderr",
     "output_type": "stream",
     "text": [
      "248it [16:23,  3.97s/it]\n"
     ]
    },
    {
     "name": "stdout",
     "output_type": "stream",
     "text": [
      "Loss: 0.989539108449413\n",
      "---------------------------------------\n",
      "VAL\n"
     ]
    },
    {
     "name": "stderr",
     "output_type": "stream",
     "text": [
      "100%|██████████| 31/31 [02:30<00:00,  4.85s/it]\n"
     ]
    },
    {
     "name": "stdout",
     "output_type": "stream",
     "text": [
      "Dice Scores: 0.4964453305808767\n",
      "---------------------------------------\n",
      "Epoch 6/10\n",
      "TRAIN\n"
     ]
    },
    {
     "name": "stderr",
     "output_type": "stream",
     "text": [
      "248it [16:14,  3.93s/it]\n"
     ]
    },
    {
     "name": "stdout",
     "output_type": "stream",
     "text": [
      "Loss: 0.9892987224363512\n",
      "---------------------------------------\n",
      "VAL\n"
     ]
    },
    {
     "name": "stderr",
     "output_type": "stream",
     "text": [
      "100%|██████████| 31/31 [02:09<00:00,  4.19s/it]\n"
     ]
    },
    {
     "name": "stdout",
     "output_type": "stream",
     "text": [
      "Dice Scores: 0.4934465692588879\n",
      "---------------------------------------\n",
      "Epoch 7/10\n",
      "TRAIN\n"
     ]
    },
    {
     "name": "stderr",
     "output_type": "stream",
     "text": [
      "248it [15:50,  3.83s/it]\n"
     ]
    },
    {
     "name": "stdout",
     "output_type": "stream",
     "text": [
      "Loss: 0.9891094577408606\n",
      "---------------------------------------\n",
      "VAL\n"
     ]
    },
    {
     "name": "stderr",
     "output_type": "stream",
     "text": [
      "100%|██████████| 31/31 [02:08<00:00,  4.14s/it]\n"
     ]
    },
    {
     "name": "stdout",
     "output_type": "stream",
     "text": [
      "Dice Scores: 0.49063856136654654\n",
      "---------------------------------------\n",
      "Epoch 8/10\n",
      "TRAIN\n"
     ]
    },
    {
     "name": "stderr",
     "output_type": "stream",
     "text": [
      "248it [15:48,  3.82s/it]\n"
     ]
    },
    {
     "name": "stdout",
     "output_type": "stream",
     "text": [
      "Loss: 0.9890163855687264\n",
      "---------------------------------------\n",
      "VAL\n"
     ]
    },
    {
     "name": "stderr",
     "output_type": "stream",
     "text": [
      "100%|██████████| 31/31 [02:07<00:00,  4.12s/it]\n"
     ]
    },
    {
     "name": "stdout",
     "output_type": "stream",
     "text": [
      "Dice Scores: 0.48800478848598655\n",
      "---------------------------------------\n",
      "Epoch 9/10\n",
      "TRAIN\n"
     ]
    },
    {
     "name": "stderr",
     "output_type": "stream",
     "text": [
      "248it [16:00,  3.87s/it]\n"
     ]
    },
    {
     "name": "stdout",
     "output_type": "stream",
     "text": [
      "Loss: 0.9889847227642613\n",
      "---------------------------------------\n",
      "VAL\n"
     ]
    },
    {
     "name": "stderr",
     "output_type": "stream",
     "text": [
      "100%|██████████| 31/31 [02:06<00:00,  4.07s/it]\n"
     ]
    },
    {
     "name": "stdout",
     "output_type": "stream",
     "text": [
      "Dice Scores: 0.48570411478079134\n",
      "---------------------------------------\n",
      "Epoch 10/10\n",
      "TRAIN\n"
     ]
    },
    {
     "name": "stderr",
     "output_type": "stream",
     "text": [
      "248it [15:42,  3.80s/it]\n"
     ]
    },
    {
     "name": "stdout",
     "output_type": "stream",
     "text": [
      "Loss: 0.9889660208455978\n",
      "---------------------------------------\n",
      "VAL\n"
     ]
    },
    {
     "name": "stderr",
     "output_type": "stream",
     "text": [
      "100%|██████████| 31/31 [02:04<00:00,  4.01s/it]"
     ]
    },
    {
     "name": "stdout",
     "output_type": "stream",
     "text": [
      "Dice Scores: 0.4850154718564403\n",
      "---------------------------------------\n"
     ]
    },
    {
     "name": "stderr",
     "output_type": "stream",
     "text": [
      "\n"
     ]
    }
   ],
   "source": [
    "# TRAIN\n",
    "for epoch in range(max_epochs):\n",
    "\n",
    "    model.train()\n",
    "\n",
    "    print(f\"Epoch {epoch+1}/{max_epochs}\")\n",
    "    print('TRAIN')\n",
    "\n",
    "    epoch_loss = 0\n",
    "    step = 0\n",
    "    for i, batch in tqdm(enumerate(train_loader)):\n",
    "        # Load\n",
    "        step += 1\n",
    "        images, targets, _ = batch   \n",
    "\n",
    "        # Flatten\n",
    "        images = [img.contiguous().view(3, -1).t() for img in images]\n",
    "        images = torch.cat(images, dim=1)\n",
    "        target = target.contiguous().view(3, -1).t()\n",
    "        images, targets = images.squeeze(0), targets.squeeze(0)    \n",
    "\n",
    "        # Logistic Regression\n",
    "        outputs = model(images)\n",
    "\n",
    "        # Loss\n",
    "        loss = loss_function(outputs, targets)\n",
    "        loss.backward()\n",
    "        optimizer.step()\n",
    "        epoch_loss += loss.item()\n",
    "    \n",
    "    lr_scheduler.step()\n",
    "    epoch_loss /= step\n",
    "    print(f\"Loss: {epoch_loss}\")\n",
    "\n",
    "    # VAL\n",
    "    if (i+1) % val_interval == 0:\n",
    "        model.eval()\n",
    "        print('---------------------------------------')\n",
    "        print('VAL')\n",
    "        dice_values = []\n",
    "        for batch in tqdm(val_loader):\n",
    "\n",
    "            # Load\n",
    "            images, target, og_shape = batch   \n",
    "            images = [img.contiguous().view(3, -1).t() for img in images]\n",
    "            images = torch.cat(images, dim=1)\n",
    "            target = target.contiguous().view(3, -1).t()\n",
    "\n",
    "            # Predict \n",
    "            outputs = inference(images, 12, model, VAL_AMP=False)\n",
    "            img = trans(outputs).squeeze(0)\n",
    "            target = target.squeeze(0) \n",
    "\n",
    "            # To OG Shape\n",
    "            img = img.mT.reshape(1, og_shape[0], og_shape[1], og_shape[2], og_shape[3])\n",
    "            target = target.mT.reshape(1, og_shape[0], og_shape[1], og_shape[2], og_shape[3])\n",
    "\n",
    "            # Dice Metric\n",
    "            dice_metric(y_pred=img, y=target)\n",
    "            dice_score = dice_metric.aggregate()\n",
    "            dice_values.append(dice_score.item())\n",
    "            dice_metric.reset()\n",
    "\n",
    "        # Results\n",
    "        print('Dice Scores:', np.mean(dice_values))\n",
    "        print('---------------------------------------')\n",
    "\n",
    "    torch.save(model.state_dict(), f'../outputs/Ensemble/LogRegCheckpoints/LogisticRegression_{epoch+1}.pt')"
   ]
  }
 ],
 "metadata": {
  "kernelspec": {
   "display_name": "tfm",
   "language": "python",
   "name": "python3"
  },
  "language_info": {
   "codemirror_mode": {
    "name": "ipython",
    "version": 3
   },
   "file_extension": ".py",
   "mimetype": "text/x-python",
   "name": "python",
   "nbconvert_exporter": "python",
   "pygments_lexer": "ipython3",
   "version": "3.9.18"
  }
 },
 "nbformat": 4,
 "nbformat_minor": 2
}
